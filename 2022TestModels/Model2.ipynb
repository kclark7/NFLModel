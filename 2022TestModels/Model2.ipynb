{
 "cells": [
  {
   "cell_type": "code",
   "execution_count": 1,
   "metadata": {},
   "outputs": [],
   "source": [
    "import pandas as pd\n",
    "from sklearn import linear_model\n",
    "import matplotlib as mpl\n",
    "import matplotlib.pyplot as plt\n"
   ]
  },
  {
   "cell_type": "code",
   "execution_count": 2,
   "metadata": {},
   "outputs": [],
   "source": [
    "training_df = pd.read_csv(\"/Users/kyle/Desktop/NFLModel/data/W8-11Data .csv\")"
   ]
  },
  {
   "cell_type": "code",
   "execution_count": 3,
   "metadata": {},
   "outputs": [
    {
     "data": {
      "text/plain": [
       "LinearRegression()"
      ]
     },
     "execution_count": 3,
     "metadata": {},
     "output_type": "execute_result"
    }
   ],
   "source": [
    "X = training_df[['3DConv', 'RZPct', 'YpD', 'TOPct', 'PpD', 'Vegas']]\n",
    "y = training_df['Outcome']\n",
    "regr = linear_model.LinearRegression()\n",
    "regr.fit(X, y)"
   ]
  },
  {
   "cell_type": "code",
   "execution_count": 4,
   "metadata": {},
   "outputs": [
    {
     "name": "stdout",
     "output_type": "stream",
     "text": [
      "[ 0.93603635  7.24991967 -0.06531702 -0.07583596 -5.08752377 -0.19079173]\n"
     ]
    },
    {
     "data": {
      "text/plain": [
       "0.09497948043778681"
      ]
     },
     "execution_count": 4,
     "metadata": {},
     "output_type": "execute_result"
    }
   ],
   "source": [
    "print(regr.coef_)\n",
    "regr.score(X,y)"
   ]
  },
  {
   "cell_type": "code",
   "execution_count": null,
   "metadata": {},
   "outputs": [],
   "source": [
    "#The R^2 is now extremely low, but it was .61 before doing the weighted averages which should\n",
    "#have made it stronger not weaker.\n",
    "#Also, individually each variable had a positive corr coef, but now some are neg."
   ]
  },
  {
   "cell_type": "code",
   "execution_count": 14,
   "metadata": {},
   "outputs": [],
   "source": [
    "df12 = pd.read_csv('/Users/kyle/Desktop/NFLModel/data/Week12stats.csv')"
   ]
  },
  {
   "cell_type": "code",
   "execution_count": 54,
   "metadata": {},
   "outputs": [],
   "source": [
    "X12 = df12[['3DConv', 'RZPct', 'YpD', 'TOPct', 'PpD', 'Vegas']]"
   ]
  },
  {
   "cell_type": "code",
   "execution_count": 28,
   "metadata": {},
   "outputs": [
    {
     "data": {
      "text/html": [
       "<div>\n",
       "<style scoped>\n",
       "    .dataframe tbody tr th:only-of-type {\n",
       "        vertical-align: middle;\n",
       "    }\n",
       "\n",
       "    .dataframe tbody tr th {\n",
       "        vertical-align: top;\n",
       "    }\n",
       "\n",
       "    .dataframe thead th {\n",
       "        text-align: right;\n",
       "    }\n",
       "</style>\n",
       "<table border=\"1\" class=\"dataframe\">\n",
       "  <thead>\n",
       "    <tr style=\"text-align: right;\">\n",
       "      <th></th>\n",
       "      <th>3DConv</th>\n",
       "      <th>RZPct</th>\n",
       "      <th>YpD</th>\n",
       "      <th>TOPct</th>\n",
       "      <th>PpD</th>\n",
       "      <th>Vegas</th>\n",
       "    </tr>\n",
       "  </thead>\n",
       "  <tbody>\n",
       "    <tr>\n",
       "      <th>0</th>\n",
       "      <td>-1.638</td>\n",
       "      <td>-0.0792</td>\n",
       "      <td>-0.630</td>\n",
       "      <td>1.773</td>\n",
       "      <td>-0.0299</td>\n",
       "      <td>-2.5</td>\n",
       "    </tr>\n",
       "    <tr>\n",
       "      <th>1</th>\n",
       "      <td>4.979</td>\n",
       "      <td>0.1147</td>\n",
       "      <td>3.540</td>\n",
       "      <td>3.360</td>\n",
       "      <td>0.4027</td>\n",
       "      <td>7.0</td>\n",
       "    </tr>\n",
       "    <tr>\n",
       "      <th>2</th>\n",
       "      <td>-11.554</td>\n",
       "      <td>0.0739</td>\n",
       "      <td>-6.880</td>\n",
       "      <td>-4.038</td>\n",
       "      <td>-0.5176</td>\n",
       "      <td>-7.0</td>\n",
       "    </tr>\n",
       "    <tr>\n",
       "      <th>3</th>\n",
       "      <td>1.959</td>\n",
       "      <td>-0.1245</td>\n",
       "      <td>-2.598</td>\n",
       "      <td>4.465</td>\n",
       "      <td>-0.0706</td>\n",
       "      <td>-3.0</td>\n",
       "    </tr>\n",
       "    <tr>\n",
       "      <th>4</th>\n",
       "      <td>0.961</td>\n",
       "      <td>-0.0354</td>\n",
       "      <td>-3.659</td>\n",
       "      <td>7.472</td>\n",
       "      <td>-0.0555</td>\n",
       "      <td>2.5</td>\n",
       "    </tr>\n",
       "    <tr>\n",
       "      <th>5</th>\n",
       "      <td>-6.579</td>\n",
       "      <td>-0.1068</td>\n",
       "      <td>-3.868</td>\n",
       "      <td>1.432</td>\n",
       "      <td>-0.4587</td>\n",
       "      <td>-4.0</td>\n",
       "    </tr>\n",
       "    <tr>\n",
       "      <th>6</th>\n",
       "      <td>-6.449</td>\n",
       "      <td>0.0587</td>\n",
       "      <td>-2.163</td>\n",
       "      <td>1.274</td>\n",
       "      <td>-0.2421</td>\n",
       "      <td>-1.5</td>\n",
       "    </tr>\n",
       "    <tr>\n",
       "      <th>7</th>\n",
       "      <td>8.982</td>\n",
       "      <td>-0.0151</td>\n",
       "      <td>1.897</td>\n",
       "      <td>5.359</td>\n",
       "      <td>0.3749</td>\n",
       "      <td>7.0</td>\n",
       "    </tr>\n",
       "    <tr>\n",
       "      <th>8</th>\n",
       "      <td>3.364</td>\n",
       "      <td>0.0546</td>\n",
       "      <td>1.135</td>\n",
       "      <td>0.820</td>\n",
       "      <td>0.3477</td>\n",
       "      <td>3.5</td>\n",
       "    </tr>\n",
       "    <tr>\n",
       "      <th>9</th>\n",
       "      <td>-3.991</td>\n",
       "      <td>0.0455</td>\n",
       "      <td>1.408</td>\n",
       "      <td>-2.481</td>\n",
       "      <td>-0.0614</td>\n",
       "      <td>-1.5</td>\n",
       "    </tr>\n",
       "    <tr>\n",
       "      <th>10</th>\n",
       "      <td>1.390</td>\n",
       "      <td>-0.0431</td>\n",
       "      <td>-2.191</td>\n",
       "      <td>-0.967</td>\n",
       "      <td>-0.1383</td>\n",
       "      <td>-3.0</td>\n",
       "    </tr>\n",
       "    <tr>\n",
       "      <th>11</th>\n",
       "      <td>-3.261</td>\n",
       "      <td>-0.0969</td>\n",
       "      <td>-0.572</td>\n",
       "      <td>1.559</td>\n",
       "      <td>-0.2140</td>\n",
       "      <td>-2.0</td>\n",
       "    </tr>\n",
       "    <tr>\n",
       "      <th>12</th>\n",
       "      <td>0.458</td>\n",
       "      <td>0.0878</td>\n",
       "      <td>1.423</td>\n",
       "      <td>-4.486</td>\n",
       "      <td>0.0705</td>\n",
       "      <td>-4.0</td>\n",
       "    </tr>\n",
       "    <tr>\n",
       "      <th>13</th>\n",
       "      <td>3.523</td>\n",
       "      <td>0.1518</td>\n",
       "      <td>-1.901</td>\n",
       "      <td>-1.000</td>\n",
       "      <td>0.1053</td>\n",
       "      <td>-3.0</td>\n",
       "    </tr>\n",
       "    <tr>\n",
       "      <th>14</th>\n",
       "      <td>4.272</td>\n",
       "      <td>-0.1657</td>\n",
       "      <td>4.821</td>\n",
       "      <td>-0.791</td>\n",
       "      <td>0.0203</td>\n",
       "      <td>-1.5</td>\n",
       "    </tr>\n",
       "  </tbody>\n",
       "</table>\n",
       "</div>"
      ],
      "text/plain": [
       "    3DConv   RZPct    YpD  TOPct     PpD  Vegas\n",
       "0   -1.638 -0.0792 -0.630  1.773 -0.0299   -2.5\n",
       "1    4.979  0.1147  3.540  3.360  0.4027    7.0\n",
       "2  -11.554  0.0739 -6.880 -4.038 -0.5176   -7.0\n",
       "3    1.959 -0.1245 -2.598  4.465 -0.0706   -3.0\n",
       "4    0.961 -0.0354 -3.659  7.472 -0.0555    2.5\n",
       "5   -6.579 -0.1068 -3.868  1.432 -0.4587   -4.0\n",
       "6   -6.449  0.0587 -2.163  1.274 -0.2421   -1.5\n",
       "7    8.982 -0.0151  1.897  5.359  0.3749    7.0\n",
       "8    3.364  0.0546  1.135  0.820  0.3477    3.5\n",
       "9   -3.991  0.0455  1.408 -2.481 -0.0614   -1.5\n",
       "10   1.390 -0.0431 -2.191 -0.967 -0.1383   -3.0\n",
       "11  -3.261 -0.0969 -0.572  1.559 -0.2140   -2.0\n",
       "12   0.458  0.0878  1.423 -4.486  0.0705   -4.0\n",
       "13   3.523  0.1518 -1.901 -1.000  0.1053   -3.0\n",
       "14   4.272 -0.1657  4.821 -0.791  0.0203   -1.5"
      ]
     },
     "execution_count": 28,
     "metadata": {},
     "output_type": "execute_result"
    }
   ],
   "source": [
    "X12"
   ]
  },
  {
   "cell_type": "code",
   "execution_count": 29,
   "metadata": {},
   "outputs": [
    {
     "data": {
      "text/plain": [
       "array([-2.65128535,  0.54211873, -6.63439685,  0.61406763, -0.9590423 ,\n",
       "       -4.77126438, -5.12803837,  3.44518563, -0.10800451, -3.79075857,\n",
       "        1.40138866, -3.44513816,  0.63734504,  3.5552034 ,  1.64578631])"
      ]
     },
     "execution_count": 29,
     "metadata": {},
     "output_type": "execute_result"
    }
   ],
   "source": [
    "regr.predict(X12)"
   ]
  },
  {
   "cell_type": "code",
   "execution_count": null,
   "metadata": {},
   "outputs": [],
   "source": [
    "#2nd model to test which is better "
   ]
  },
  {
   "cell_type": "code",
   "execution_count": 48,
   "metadata": {},
   "outputs": [
    {
     "data": {
      "text/plain": [
       "LinearRegression()"
      ]
     },
     "execution_count": 48,
     "metadata": {},
     "output_type": "execute_result"
    }
   ],
   "source": [
    "X = training_df[['3DConv', '']]\n",
    "y = training_df['Outcome']\n",
    "regr = linear_model.LinearRegression()\n",
    "regr.fit(X, y)"
   ]
  },
  {
   "cell_type": "code",
   "execution_count": 49,
   "metadata": {},
   "outputs": [
    {
     "name": "stdout",
     "output_type": "stream",
     "text": [
      "[ 0.77887309 -4.95801707]\n"
     ]
    },
    {
     "data": {
      "text/plain": [
       "0.09195769744452464"
      ]
     },
     "execution_count": 49,
     "metadata": {},
     "output_type": "execute_result"
    }
   ],
   "source": [
    "print(regr.coef_)\n",
    "regr.score(X,y)"
   ]
  },
  {
   "cell_type": "code",
   "execution_count": null,
   "metadata": {},
   "outputs": [],
   "source": [
    "#signs are getting switched to negative due to suppressor effect. Every combo of 2 results in one becoming\n",
    "#negative.\n",
    "#I will try to fix this by raising the values of the corr by multiplying by 100 (since the % are written as decimals)\n",
    "#so the corr coeff isn't so close to 0 and easily switched to negative"
   ]
  },
  {
   "cell_type": "code",
   "execution_count": 105,
   "metadata": {},
   "outputs": [],
   "source": [
    "X = training_df[['PpD', '3DConv', 'TOPct']]\n",
    "y = training_df['Outcome']"
   ]
  },
  {
   "cell_type": "code",
   "execution_count": 106,
   "metadata": {},
   "outputs": [
    {
     "data": {
      "text/plain": [
       "LinearRegression()"
      ]
     },
     "execution_count": 106,
     "metadata": {},
     "output_type": "execute_result"
    }
   ],
   "source": [
    "regr = linear_model.LinearRegression()\n",
    "regr.fit(X, y)"
   ]
  },
  {
   "cell_type": "code",
   "execution_count": 107,
   "metadata": {},
   "outputs": [
    {
     "name": "stdout",
     "output_type": "stream",
     "text": [
      "[-5.04217804  0.80398351 -0.05521456]\n"
     ]
    },
    {
     "data": {
      "text/plain": [
       "0.0921142205697808"
      ]
     },
     "execution_count": 107,
     "metadata": {},
     "output_type": "execute_result"
    }
   ],
   "source": [
    "print(regr.coef_)\n",
    "regr.score(X,y)"
   ]
  },
  {
   "cell_type": "code",
   "execution_count": 108,
   "metadata": {},
   "outputs": [
    {
     "data": {
      "text/plain": [
       "array([-2.7483178 ,  0.30276939, -7.9406963 ,  0.20018996, -0.84435265,\n",
       "       -4.53988623, -5.51878024,  3.55091404, -0.57809922, -4.24637967,\n",
       "        0.38400427, -3.11310215, -1.22381512,  0.87244861,  1.89167755])"
      ]
     },
     "execution_count": 108,
     "metadata": {},
     "output_type": "execute_result"
    }
   ],
   "source": [
    "X12 = df12[['PpD', '3DConv', 'TOPct']]\n",
    "regr.predict(X12)"
   ]
  },
  {
   "cell_type": "code",
   "execution_count": 109,
   "metadata": {},
   "outputs": [],
   "source": [
    "#Using all the variables, the model went .500 in predicting week 12 outcomes.\n",
    "#Using PpD, 3DConv, and TOPct the model went .57\n",
    "#both models were .64 when adding 2.5 points predicted for home field advantage\n",
    "#although I think that is by chance since it should be accounted for in the \n",
    "#model since the home team is consistantly first listed and with positive good / neg bad"
   ]
  },
  {
   "cell_type": "code",
   "execution_count": 19,
   "metadata": {},
   "outputs": [],
   "source": [
    "#start week 3 predictions\n",
    "df13 = pd.read_csv('/Users/kyle/Desktop/NFLModel/data/Week13stats.csv')\n",
    "training_df = training_df.append(df12)"
   ]
  },
  {
   "cell_type": "code",
   "execution_count": 20,
   "metadata": {},
   "outputs": [
    {
     "data": {
      "text/plain": [
       "LinearRegression()"
      ]
     },
     "execution_count": 20,
     "metadata": {},
     "output_type": "execute_result"
    }
   ],
   "source": [
    "X = training_df[['3DConv', 'RZPct', 'YpD', 'TOPct', 'PpD', 'Vegas']]\n",
    "y = training_df['Outcome']\n",
    "regr = linear_model.LinearRegression()\n",
    "regr.fit(X, y)"
   ]
  },
  {
   "cell_type": "code",
   "execution_count": 21,
   "metadata": {},
   "outputs": [
    {
     "name": "stdout",
     "output_type": "stream",
     "text": [
      "[ 0.99270453 12.84517544  0.21865819  0.07863853 -6.69438413 -0.3542375 ]\n"
     ]
    },
    {
     "data": {
      "text/plain": [
       "0.10262695944679212"
      ]
     },
     "execution_count": 21,
     "metadata": {},
     "output_type": "execute_result"
    }
   ],
   "source": [
    "print(regr.coef_)\n",
    "regr.score(X,y)"
   ]
  },
  {
   "cell_type": "code",
   "execution_count": 22,
   "metadata": {},
   "outputs": [
    {
     "data": {
      "text/plain": [
       "array([-2.42489735, -2.86077695, -7.55434359, -6.22754904, -6.35060316,\n",
       "       -7.76969469,  2.92060777, -4.62831687,  7.52915041,  0.73125903,\n",
       "       -3.0646705 , -6.6223763 , -1.92339748, -2.02919821])"
      ]
     },
     "execution_count": 22,
     "metadata": {},
     "output_type": "execute_result"
    }
   ],
   "source": [
    "X13 = df13[['3DConv', 'RZPct', 'YpD', 'TOPct', 'PpD', 'Vegas']]\n",
    "regr.predict(X13)"
   ]
  },
  {
   "cell_type": "code",
   "execution_count": 23,
   "metadata": {},
   "outputs": [
    {
     "data": {
      "text/plain": [
       "LinearRegression()"
      ]
     },
     "execution_count": 23,
     "metadata": {},
     "output_type": "execute_result"
    }
   ],
   "source": [
    "X = training_df[['PpD', '3DConv', 'TOPct']]\n",
    "y = training_df['Outcome']\n",
    "regr = linear_model.LinearRegression()\n",
    "regr.fit(X, y)"
   ]
  },
  {
   "cell_type": "code",
   "execution_count": 24,
   "metadata": {},
   "outputs": [
    {
     "data": {
      "text/plain": [
       "array([-4.6211479 , -2.10054308, -8.61366359, -5.8240857 , -6.04416235,\n",
       "       -7.01657358,  2.62480403, -5.63062914,  8.49316941,  0.81337408,\n",
       "       -3.06181522, -5.64736224, -0.1704844 , -2.02798613])"
      ]
     },
     "execution_count": 24,
     "metadata": {},
     "output_type": "execute_result"
    }
   ],
   "source": [
    "X13 = df13[['PpD', '3DConv', 'TOPct']]\n",
    "regr.predict(X13)"
   ]
  },
  {
   "cell_type": "code",
   "execution_count": null,
   "metadata": {},
   "outputs": [],
   "source": []
  }
 ],
 "metadata": {
  "interpreter": {
   "hash": "aee8b7b246df8f9039afb4144a1f6fd8d2ca17a180786b69acc140d282b71a49"
  },
  "kernelspec": {
   "display_name": "Python 3.10.0 64-bit",
   "language": "python",
   "name": "python3"
  },
  "language_info": {
   "codemirror_mode": {
    "name": "ipython",
    "version": 3
   },
   "file_extension": ".py",
   "mimetype": "text/x-python",
   "name": "python",
   "nbconvert_exporter": "python",
   "pygments_lexer": "ipython3",
   "version": "3.10.0"
  },
  "orig_nbformat": 4
 },
 "nbformat": 4,
 "nbformat_minor": 2
}
